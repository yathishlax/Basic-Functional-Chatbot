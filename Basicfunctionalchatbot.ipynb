{
  "nbformat": 4,
  "nbformat_minor": 0,
  "metadata": {
    "colab": {
      "name": "Untitled16.ipynb",
      "provenance": [],
      "collapsed_sections": [],
      "toc_visible": true,
      "authorship_tag": "ABX9TyP3KWUEWlVMngSgJgc3EyhF",
      "include_colab_link": true
    },
    "kernelspec": {
      "name": "python3",
      "display_name": "Python 3"
    }
  },
  "cells": [
    {
      "cell_type": "markdown",
      "metadata": {
        "id": "view-in-github",
        "colab_type": "text"
      },
      "source": [
        "<a href=\"https://colab.research.google.com/github/yathishlax/Basic-Functional-Chatbot/blob/master/Basicfunctionalchatbot.ipynb\" target=\"_parent\"><img src=\"https://colab.research.google.com/assets/colab-badge.svg\" alt=\"Open In Colab\"/></a>"
      ]
    },
    {
      "cell_type": "code",
      "metadata": {
        "id": "JPXlWo93Zmvz",
        "colab_type": "code",
        "colab": {}
      },
      "source": [
        "#Loading preporocessing libs\n",
        "import pandas as pd\n",
        "import numpy as np\n",
        "\n",
        "#load vector and similarity measure\n",
        "from sklearn.feature_extraction.text import TfidfVectorizer\n",
        "from sklearn.metrics.pairwise import cosine_similarity"
      ],
      "execution_count": 5,
      "outputs": []
    },
    {
      "cell_type": "code",
      "metadata": {
        "id": "vkMOBOLsgYW5",
        "colab_type": "code",
        "colab": {}
      },
      "source": [
        "import nltk"
      ],
      "execution_count": 3,
      "outputs": []
    },
    {
      "cell_type": "markdown",
      "metadata": {
        "id": "lg2KQV9faKl5",
        "colab_type": "text"
      },
      "source": [
        "## Read the data"
      ]
    },
    {
      "cell_type": "code",
      "metadata": {
        "id": "m2xV9iO2aM9E",
        "colab_type": "code",
        "colab": {}
      },
      "source": [
        "#read the data and drop examples that has no anaswer\n",
        "df = pd.read_csv('faqchatbot.csv')\n",
        "df.dropna(inplace = True )"
      ],
      "execution_count": 6,
      "outputs": []
    },
    {
      "cell_type": "markdown",
      "metadata": {
        "id": "qwsES1zjrgBN",
        "colab_type": "text"
      },
      "source": [
        "## Train the vectorizer"
      ]
    },
    {
      "cell_type": "code",
      "metadata": {
        "id": "ChYrFD5prkTW",
        "colab_type": "code",
        "colab": {
          "base_uri": "https://localhost:8080/",
          "height": 136
        },
        "outputId": "773ecd54-4d7e-4f4b-81f6-ef4a8fba7848"
      },
      "source": [
        "vectorizer = TfidfVectorizer()\n",
        "vectorizer.fit(np.concatenate((df.Question, df.Answer)))"
      ],
      "execution_count": 7,
      "outputs": [
        {
          "output_type": "execute_result",
          "data": {
            "text/plain": [
              "TfidfVectorizer(analyzer='word', binary=False, decode_error='strict',\n",
              "                dtype=<class 'numpy.float64'>, encoding='utf-8',\n",
              "                input='content', lowercase=True, max_df=1.0, max_features=None,\n",
              "                min_df=1, ngram_range=(1, 1), norm='l2', preprocessor=None,\n",
              "                smooth_idf=True, stop_words=None, strip_accents=None,\n",
              "                sublinear_tf=False, token_pattern='(?u)\\\\b\\\\w\\\\w+\\\\b',\n",
              "                tokenizer=None, use_idf=True, vocabulary=None)"
            ]
          },
          "metadata": {
            "tags": []
          },
          "execution_count": 7
        }
      ]
    },
    {
      "cell_type": "markdown",
      "metadata": {
        "id": "B7cW8Fcdr_Ct",
        "colab_type": "text"
      },
      "source": [
        "## Vectorize questions"
      ]
    },
    {
      "cell_type": "code",
      "metadata": {
        "id": "VrTq67qfsFSA",
        "colab_type": "code",
        "colab": {}
      },
      "source": [
        "Question_vectors = vectorizer.transform(df.Question)"
      ],
      "execution_count": 8,
      "outputs": []
    },
    {
      "cell_type": "markdown",
      "metadata": {
        "id": "JryKPIA2sXlf",
        "colab_type": "text"
      },
      "source": [
        "## Chat with the user"
      ]
    },
    {
      "cell_type": "code",
      "metadata": {
        "id": "KlmDSQ96sZyl",
        "colab_type": "code",
        "colab": {
          "base_uri": "https://localhost:8080/",
          "height": 53
        },
        "outputId": "9c60501f-d910-46eb-e370-1d94f0664fad"
      },
      "source": [
        "print(\"You can start chatting with me now.\")\n",
        "while True:\n",
        "    # Read user input\n",
        "    input_question = input()\n",
        "\n",
        "    # Locate the closest question\n",
        "    input_question_vector = vectorizer.transform([input_question])\n",
        "\n",
        "    # Compute similarities\n",
        "    similarities = cosine_similarity(input_question_vector, Question_vectors)\n",
        "\n",
        "    # Find the closest question\n",
        "    closest = np.argmax(similarities, axis=1)\n",
        "\n",
        "    # Print the correct answer\n",
        "    print(\"BOT: \" + df.Answer.iloc[closest].values[0])"
      ],
      "execution_count": null,
      "outputs": [
        {
          "output_type": "stream",
          "text": [
            "You can start chatting with me now.\n"
          ],
          "name": "stdout"
        }
      ]
    },
    {
      "cell_type": "code",
      "metadata": {
        "id": "pdkQsMyssW5W",
        "colab_type": "code",
        "colab": {}
      },
      "source": [
        ""
      ],
      "execution_count": null,
      "outputs": []
    }
  ]
}